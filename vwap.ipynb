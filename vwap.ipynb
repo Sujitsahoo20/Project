import pandas as pd

# Load data from CSV file
df = pd.read_csv('data.csv')

# Convert timestamp column to datetime format
df['timestamp'] = pd.to_datetime(df['timestamp'])

# Compute volume-weighted average price (VWAP) for each interval
interval = 5  # time interval in minutes
start_time = df['timestamp'].min()
end_time = df['timestamp'].max()
vwap_list = []
while start_time <= end_time:
    df_interval = df[(df['timestamp'] >= start_time) & (df['timestamp'] < start_time + pd.Timedelta(minutes=interval))]
    if len(df_interval) > 0:
        vwap = (df_interval['price'] * df_interval['volume']).sum() / df_interval['volume'].sum()
        vwap_list.append(vwap)
    start_time += pd.Timedelta(minutes=interval)

# Print VWAP values for each interval
for i, vwap in enumerate(vwap_list):
    print(f"VWAP for interval {i+1}: {vwap:.2f}")
